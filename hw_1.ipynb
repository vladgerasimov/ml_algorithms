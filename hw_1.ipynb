{
 "cells": [
  {
   "cell_type": "markdown",
   "metadata": {},
   "source": [
    "## Урок 1. Алгоритм линейной регрессии. \n",
    "## Градиентный спуск"
   ]
  },
  {
   "cell_type": "code",
   "execution_count": 2,
   "metadata": {
    "colab": {},
    "colab_type": "code",
    "id": "ak8b3KV45kVW"
   },
   "outputs": [],
   "source": [
    "import numpy as np\n",
    "import matplotlib.pyplot as plt\n",
    "plt.rcParams.update({'font.size': 14})"
   ]
  },
  {
   "cell_type": "code",
   "execution_count": 3,
   "metadata": {
    "colab": {},
    "colab_type": "code",
    "id": "i77tZbAd5plB"
   },
   "outputs": [
    {
     "data": {
      "text/plain": [
       "(2, 10)"
      ]
     },
     "execution_count": 3,
     "metadata": {},
     "output_type": "execute_result"
    }
   ],
   "source": [
    "X = np.array([[1, 1, 1, 1, 1, 1, 1, 1, 1, 1],   # для умножения на intercept\n",
    "              [1, 1, 2, 1, 3, 0, 5, 10, 1, 2]]) # стаж\n",
    "X.shape"
   ]
  },
  {
   "cell_type": "code",
   "execution_count": 4,
   "metadata": {
    "colab": {},
    "colab_type": "code",
    "id": "VsNrKi1Q6Wmh"
   },
   "outputs": [],
   "source": [
    "# средний балл ЕГЭ (целевая переменная)\n",
    "y = [45, 55, 50, 59, 65, 35, 75, 80, 50, 60]"
   ]
  },
  {
   "cell_type": "code",
   "execution_count": 5,
   "metadata": {
    "colab": {},
    "colab_type": "code",
    "id": "JTSC2cFnCd8T"
   },
   "outputs": [],
   "source": [
    "def calc_mse(y, y_pred):\n",
    "    err = np.mean((y - y_pred)**2)\n",
    "    return err\n",
    "\n",
    "def calc_mae(y, y_pred):\n",
    "    err = np.mean(np.abs(y - y_pred))\n",
    "    return err"
   ]
  },
  {
   "cell_type": "markdown",
   "metadata": {},
   "source": [
    "### Домашние задания"
   ]
  },
  {
   "cell_type": "markdown",
   "metadata": {
    "colab_type": "text",
    "id": "huXrhXQsZTMt"
   },
   "source": [
    "1. Подберите скорость обучения (alpha) и количество итераций:"
   ]
  },
  {
   "cell_type": "code",
   "execution_count": 6,
   "metadata": {},
   "outputs": [
    {
     "name": "stdout",
     "output_type": "stream",
     "text": [
      "0 [ 6.51 17.5 ] 3173.15\n",
      "50 [44.33541912  4.44561648] 50.957004607078744\n",
      "100 [47.03142979  3.94777749] 45.96159894380851\n",
      "150 [47.21823551  3.91328238] 45.93761570048005\n",
      "200 [47.23117922  3.91089223] 45.93750055548497\n",
      "250 [47.23207609  3.91072662] 45.93750000266693\n"
     ]
    }
   ],
   "source": [
    "n = X.shape[1]\n",
    "alpha = 5e-2\n",
    "w = np.array([1, 0.5])\n",
    "\n",
    "for i in range(300):\n",
    "    y_pred = np.dot(w, X)\n",
    "    err = calc_mse(y, y_pred)\n",
    "    for j in range(w.shape[0]):\n",
    "        w[j] -= alpha * (1/n * 2 * np.sum(X[j] * (y_pred - y)))\n",
    "    if i % 50 == 0:\n",
    "        print(i, w, err)"
   ]
  },
  {
   "cell_type": "markdown",
   "metadata": {},
   "source": [
    "#### Видим, что при такой скорости обучения, уже на 200 итерации веса перестают меняться после второго знака после запятой"
   ]
  },
  {
   "cell_type": "markdown",
   "metadata": {
    "colab_type": "text",
    "id": "5Qu1o4JhZYwI"
   },
   "source": [
    "##### 2. В этом коде мы избавляемся от итераций по весам, но тут есть ошибка, исправьте ее:"
   ]
  },
  {
   "cell_type": "code",
   "execution_count": 7,
   "metadata": {
    "colab": {
     "base_uri": "https://localhost:8080/",
     "height": 185
    },
    "colab_type": "code",
    "id": "WZZzDCQLY4pA",
    "outputId": "28f58ade-72f2-4381-809d-2417752d56e4",
    "scrolled": false
   },
   "outputs": [
    {
     "name": "stdout",
     "output_type": "stream",
     "text": [
      "0 [ 6.51 17.5 ] 3173.15\n",
      "100 [47.03142979  3.94777749] 45.96159894380851\n",
      "200 [47.23117922  3.91089223] 45.93750055548497\n",
      "300 [47.23213823  3.91071514] 45.937500000012804\n",
      "400 [47.23214283  3.91071429] 45.93749999999999\n",
      "500 [47.23214286  3.91071429] 45.9375\n",
      "600 [47.23214286  3.91071429] 45.9375\n"
     ]
    }
   ],
   "source": [
    "w = np.array([1, 0.5])\n",
    "\n",
    "for i in range(601):\n",
    "    y_pred = np.dot(w, X)\n",
    "    err = calc_mse(y, y_pred)\n",
    "    w -= (alpha * 1/n * 2 * np.dot((y_pred - y), X.T))\n",
    "    if i % 100 == 0:\n",
    "        print(i, w, err)"
   ]
  },
  {
   "cell_type": "markdown",
   "metadata": {},
   "source": [
    "#### Записал строку изменения весов через скалярные произведения транспонированной матрицы X и вектора ошибок алгоритма"
   ]
  },
  {
   "cell_type": "markdown",
   "metadata": {
    "colab": {},
    "colab_type": "code",
    "id": "kGLyytFgHdco"
   },
   "source": [
    "##### 3. Вместо того, чтобы задавать количество итераций, задайте условие остановки алгоритма - когда ошибка за итерацию начинает изменяться ниже определенного порога"
   ]
  },
  {
   "cell_type": "code",
   "execution_count": 19,
   "metadata": {},
   "outputs": [
    {
     "name": "stdout",
     "output_type": "stream",
     "text": [
      "0 [ 6.51 17.5 ] 3173.15\n",
      "20 [32.8605174   6.56455282] 169.49199958291322\n",
      "40 [42.29161487  4.82302057] 60.53886396989221\n",
      "60 [45.53373968  4.22433742] 47.66305293823491\n",
      "80 [46.64828353  4.01852838] 46.14142156162881\n",
      "100 [47.03142979  3.94777749] 45.96159894380851\n",
      "120 [47.16314381  3.92345549] 45.94034795334072\n",
      "140 [47.20842308  3.91509432] 45.93783656405422\n",
      "160 [47.22398872  3.91222001] 45.93753977430423\n",
      "180 [47.22933971  3.91123191] 45.937504700428526\n",
      "200 [47.23117922  3.91089223] 45.93750055548497\n",
      "220 [47.23181159  3.91077546] 45.937500065645835\n"
     ]
    }
   ],
   "source": [
    "ebsilon = 1e-5\n",
    "w = np.array([1, 0.5])\n",
    "prev_norm = np.linalg.norm(w)\n",
    "\n",
    "for i in range(10000):\n",
    "    y_pred = np.dot(w, X)\n",
    "    err = calc_mse(y, y_pred)\n",
    "    w -= (alpha * 1/n * 2 * np.dot((y_pred - y), X.T))\n",
    "    new_norm = np.linalg.norm(w)\n",
    "    if abs(np.linalg.norm(w) - prev_norm) <= ebsilon:\n",
    "        break\n",
    "    prev_norm = np.linalg.norm(w)\n",
    "    if i % 20 == 0:\n",
    "        print(i, w, err)"
   ]
  },
  {
   "cell_type": "code",
   "execution_count": 21,
   "metadata": {},
   "outputs": [
    {
     "name": "stdout",
     "output_type": "stream",
     "text": [
      "weights are [47.23195873  3.91074829]\n",
      "prev_norm = 47.39357485951787\n",
      "new_norm = 47.39358476898961\n",
      "iterations = 231\n"
     ]
    }
   ],
   "source": [
    "print(f'weights are {w}\\nprev_norm = {prev_norm}\\nnew_norm = {new_norm}\\niterations = {i}')"
   ]
  }
 ],
 "metadata": {
  "colab": {
   "collapsed_sections": [],
   "name": "Lesson1.ipynb",
   "provenance": []
  },
  "kernelspec": {
   "display_name": "Python 3",
   "language": "python",
   "name": "python3"
  },
  "language_info": {
   "codemirror_mode": {
    "name": "ipython",
    "version": 3
   },
   "file_extension": ".py",
   "mimetype": "text/x-python",
   "name": "python",
   "nbconvert_exporter": "python",
   "pygments_lexer": "ipython3",
   "version": "3.8.5"
  },
  "toc": {
   "base_numbering": 1,
   "nav_menu": {},
   "number_sections": false,
   "sideBar": true,
   "skip_h1_title": true,
   "title_cell": "Содержание",
   "title_sidebar": "Содержание",
   "toc_cell": false,
   "toc_position": {},
   "toc_section_display": true,
   "toc_window_display": false
  }
 },
 "nbformat": 4,
 "nbformat_minor": 1
}
