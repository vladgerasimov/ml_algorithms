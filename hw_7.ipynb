{
 "cells": [
  {
   "cell_type": "code",
   "execution_count": 98,
   "metadata": {},
   "outputs": [],
   "source": [
    "import numpy as np\n",
    "from sklearn.datasets import load_iris\n",
    "from sklearn.model_selection import train_test_split"
   ]
  },
  {
   "cell_type": "code",
   "execution_count": 99,
   "metadata": {},
   "outputs": [],
   "source": [
    "X, y = load_iris(return_X_y=True)"
   ]
  },
  {
   "cell_type": "code",
   "execution_count": 100,
   "metadata": {},
   "outputs": [],
   "source": [
    "X_train, X_test, y_train, y_test = train_test_split(X, y, test_size=0.3)"
   ]
  },
  {
   "cell_type": "code",
   "execution_count": 101,
   "metadata": {},
   "outputs": [],
   "source": [
    "class KnnClassifier:\n",
    "    def __init__(self, k_neighbors, q=0.5, *args, **kwargs):\n",
    "        self.k_neighbors = k_neighbors\n",
    "        self.q = q\n",
    "        self.args = args\n",
    "        self.kwargs = kwargs\n",
    "    \n",
    "    @staticmethod\n",
    "    def get_distance(x1, x2):\n",
    "        distance = 0\n",
    "        for i in range(len(x1)):\n",
    "            distance += (x1[i] - x2[i]) ** 2\n",
    "        return np.sqrt(distance)\n",
    "    \n",
    "    def get_weight(self, distance):\n",
    "        return self.q ** distance\n",
    "    \n",
    "    def fit(self, X_train, y_train):\n",
    "        self.X_train = X_train\n",
    "        self.y_train = y_train\n",
    "        \n",
    "    def predict(self, X):\n",
    "        results = []\n",
    "        for i in range(X.shape[0]):\n",
    "            distances = []\n",
    "            nearest_neighbors = {}\n",
    "            for j in range(self.X_train.shape[0]):\n",
    "                distance = self.get_distance(X[i], self.X_train[j])\n",
    "                weight = self.get_weight(distance)\n",
    "                distances.append((distance, y_train[j], weight))\n",
    "                \n",
    "            for neighbor in sorted(distances)[:self.k_neighbors]:\n",
    "                if neighbor[1] not in nearest_neighbors.keys():\n",
    "                    nearest_neighbors[neighbor[1]] = 0\n",
    "                nearest_neighbors[neighbor[1]] += neighbor[2]\n",
    "            results.append(sorted(nearest_neighbors, key=nearest_neighbors.get)[-1])\n",
    "        \n",
    "        return results     "
   ]
  },
  {
   "cell_type": "code",
   "execution_count": 102,
   "metadata": {},
   "outputs": [],
   "source": [
    "knn = KnnClassifier(5)\n",
    "knn.fit(X_train, y_train)"
   ]
  },
  {
   "cell_type": "code",
   "execution_count": 103,
   "metadata": {},
   "outputs": [],
   "source": [
    "pred = knn.predict(X_test)"
   ]
  },
  {
   "cell_type": "code",
   "execution_count": 104,
   "metadata": {},
   "outputs": [
    {
     "data": {
      "text/plain": [
       "[(2, 1),\n",
       " (2, 2),\n",
       " (2, 2),\n",
       " (0, 0),\n",
       " (0, 0),\n",
       " (2, 2),\n",
       " (1, 1),\n",
       " (0, 0),\n",
       " (0, 0),\n",
       " (0, 0),\n",
       " (0, 0),\n",
       " (1, 2),\n",
       " (0, 0),\n",
       " (0, 0),\n",
       " (1, 1),\n",
       " (2, 2),\n",
       " (0, 0),\n",
       " (2, 2),\n",
       " (1, 1),\n",
       " (0, 0),\n",
       " (1, 1),\n",
       " (2, 1),\n",
       " (0, 0),\n",
       " (0, 0),\n",
       " (2, 2),\n",
       " (1, 1),\n",
       " (2, 2),\n",
       " (2, 2),\n",
       " (1, 1),\n",
       " (0, 0),\n",
       " (2, 2),\n",
       " (2, 2),\n",
       " (1, 1),\n",
       " (2, 2),\n",
       " (0, 0),\n",
       " (1, 1),\n",
       " (1, 1),\n",
       " (1, 1),\n",
       " (1, 1),\n",
       " (1, 1),\n",
       " (1, 2),\n",
       " (2, 2),\n",
       " (1, 1),\n",
       " (1, 1),\n",
       " (1, 1)]"
      ]
     },
     "execution_count": 104,
     "metadata": {},
     "output_type": "execute_result"
    }
   ],
   "source": [
    "list(zip(pred, y_test))"
   ]
  }
 ],
 "metadata": {
  "kernelspec": {
   "display_name": "Python 3",
   "language": "python",
   "name": "python3"
  },
  "language_info": {
   "codemirror_mode": {
    "name": "ipython",
    "version": 3
   },
   "file_extension": ".py",
   "mimetype": "text/x-python",
   "name": "python",
   "nbconvert_exporter": "python",
   "pygments_lexer": "ipython3",
   "version": "3.8.5"
  }
 },
 "nbformat": 4,
 "nbformat_minor": 4
}
